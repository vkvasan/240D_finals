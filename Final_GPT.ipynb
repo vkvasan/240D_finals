{
  "nbformat": 4,
  "nbformat_minor": 0,
  "metadata": {
    "colab": {
      "provenance": [],
      "gpuType": "T4"
    },
    "kernelspec": {
      "name": "python3",
      "display_name": "Python 3"
    },
    "language_info": {
      "name": "python"
    },
    "accelerator": "GPU"
  },
  "cells": [
    {
      "cell_type": "code",
      "source": [
        "import os\n",
        "quantization = 1 #Set this to 1 for Quantization\n",
        "if quantization:\n",
        "  os.chdir('./GPT_8bit/')\n",
        "  !python3 gpt.py\n",
        "else:\n",
        "  os.chdir('./GPT/')\n",
        "  !python3 gpt.py\n"
      ],
      "metadata": {
        "id": "Sy0m1Jaj7pRT"
      },
      "execution_count": null,
      "outputs": []
    }
  ]
}